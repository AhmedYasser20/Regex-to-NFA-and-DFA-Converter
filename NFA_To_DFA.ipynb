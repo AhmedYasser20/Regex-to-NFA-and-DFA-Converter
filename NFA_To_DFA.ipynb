{
 "cells": [
  {
   "cell_type": "markdown",
   "metadata": {},
   "source": [
    "flow of code \n",
    "    1-convert json into data structure\n",
    "    2-helper function to closure of node\n",
    "    3-transantions table\n",
    "todo list\n",
    "    1-coverting json => Done\n",
    "    2-Get Closure    => Done\n",
    "    3-Define DFA     => Done\n",
    "    4-algorithm   "
   ]
  },
  {
   "cell_type": "code",
   "execution_count": 8,
   "metadata": {},
   "outputs": [],
   "source": [
    "from tokenize import String"
   ]
  },
  {
   "cell_type": "code",
   "execution_count": 9,
   "metadata": {},
   "outputs": [
    {
     "name": "stdout",
     "output_type": "stream",
     "text": [
      "S0\n",
      "States: {'S0': {'isTerminatingState': False, 'A': 'S1', 'B': 'S0', ' ': 'S2', 'E': 'S3'}, 'S1': {'isTerminatingState': False, 'A': 'S1', 'B': 'S1', 'E': 'S0'}, 'S2': {'isTerminatingState': False, 'A': 'S1', 'B': 'S0', ' ': 'S1', 'E': 'S3'}, 'S3': {'isTerminatingState': True, 'A': 'S1', 'B': 'S0', 'E': 'S2'}}\n"
     ]
    }
   ],
   "source": [
    "import json\n",
    "\n",
    "# Read the JSON file\n",
    "with open('B:\\\\Spring2024\\\\Compilers\\\\Assignment\\\\test.json') as f:\n",
    "    data = json.load(f)\n",
    "\n",
    "# Print the data\n",
    "print(data['startingState'])\n",
    "startState = data['startingState'];\n",
    "states = {key: value for key, value in data.items() if key != 'startingState'}\n",
    "print(\"States:\", states)\n",
    "\n"
   ]
  },
  {
   "cell_type": "code",
   "execution_count": 10,
   "metadata": {},
   "outputs": [],
   "source": [
    "def getClosure(startState, states):\n",
    "    closure = []\n",
    "    closure.append(startState)\n",
    "    isAddedToClosure=True\n",
    "    while isAddedToClosure:\n",
    "        isAddedToClosure=False\n",
    "        for item in closure:\n",
    "            for key , value in states[item].items():\n",
    "                if key== ' ' and value not in closure:\n",
    "                    closure.append(value)\n",
    "                    isAddedToClosure=True;\n",
    "    return closure"
   ]
  },
  {
   "cell_type": "code",
   "execution_count": 11,
   "metadata": {},
   "outputs": [
    {
     "name": "stdout",
     "output_type": "stream",
     "text": [
      "['S0', 'S2', 'S1']\n"
     ]
    }
   ],
   "source": [
    "print (getClosure('S0',states))"
   ]
  },
  {
   "cell_type": "code",
   "execution_count": 12,
   "metadata": {},
   "outputs": [],
   "source": [
    "class DFA:\n",
    "    def __init__(self):\n",
    "        self.startState = None\n",
    "        self.acceptStates = []\n",
    "        self.States = []\n",
    "        self.transitions = {}\n",
    "\n",
    "DFA = DFA()\n",
    "DFA.startState = getClosure(startState, states)\n",
    "\n",
    "st = []\n",
    "st.append(DFA.startState)\n",
    "\n",
    "while st:\n",
    "    transMap = {}\n",
    "    mainState = st.pop()\n",
    "    mainState.sort()\n",
    "    if mainState not in DFA.States:\n",
    "        DFA.States.append(mainState)\n",
    "    isAccept = False\n",
    "    for item in mainState:\n",
    "        for key, value in states[item].items():\n",
    "            if key == \"isTerminatingState\" and value == True:\n",
    "                isAccept = True\n",
    "            if key != \"isTerminatingState\" and key != ' ':\n",
    "                if key not in transMap:\n",
    "                    transMap[key] = []\n",
    "                transMap[key].append(value)\n",
    "                value2 = getClosure(value, states)\n",
    "                for Closureitem in value2:\n",
    "                    transMap[key].append(Closureitem)\n",
    "    if isAccept == True and mainState not in DFA.acceptStates:\n",
    "        DFA.acceptStates.append(mainState)\n",
    "    # Remove duplicates from each list in transMap\n",
    "    for key in transMap:\n",
    "        transMap[key] = list(set(transMap[key]))\n",
    "        transMap[key].sort()\n",
    "        if transMap[key] not in DFA.States:\n",
    "            DFA.States.append(transMap[key])\n",
    "            st.append(transMap[key])\n",
    "        if tuple(mainState) not in DFA.transitions:\n",
    "                DFA.transitions[tuple(mainState)] = {}\n",
    "            \n",
    "        DFA.transitions[tuple(mainState)][key] = transMap[key]    "
   ]
  },
  {
   "cell_type": "code",
   "execution_count": 13,
   "metadata": {},
   "outputs": [],
   "source": [
    "anotherMap = {}\n",
    "count = 0\n",
    "for item in DFA.States:\n",
    "    anotherMap[tuple(item)] = 'S' + str(count)\n",
    "    count += 1\n",
    "DFA.startState = anotherMap[tuple(DFA.startState)]\n",
    "# Convert DFA.States\n",
    "for i in range(len(DFA.States)):\n",
    "    DFA.States[i] = anotherMap[tuple(DFA.States[i])]\n",
    "\n",
    "# Convert DFA.acceptStates\n",
    "for i in range(len(DFA.acceptStates)):\n",
    "    DFA.acceptStates[i] = anotherMap[tuple(DFA.acceptStates[i])]\n",
    "\n",
    "# Convert DFA.transitions\n",
    "new_transitions = {}\n",
    "for key, value in DFA.transitions.items():\n",
    "    new_key = anotherMap[tuple(key)]\n",
    "    new_value = {k: anotherMap[tuple(v)] for k, v in value.items()}\n",
    "    new_transitions[new_key] = new_value\n",
    "DFA.transitions = new_transitions"
   ]
  },
  {
   "cell_type": "code",
   "execution_count": 14,
   "metadata": {},
   "outputs": [
    {
     "name": "stdout",
     "output_type": "stream",
     "text": [
      "{\n",
      "    \"startingState\": \"S0\",\n",
      "    \"S0\": {\n",
      "        \"isTerminatingState\": false,\n",
      "        \"A\": \"S1\",\n",
      "        \"B\": \"S0\",\n",
      "        \"E\": \"S2\"\n",
      "    },\n",
      "    \"S1\": {\n",
      "        \"isTerminatingState\": false,\n",
      "        \"A\": \"S1\",\n",
      "        \"B\": \"S1\",\n",
      "        \"E\": \"S0\"\n",
      "    },\n",
      "    \"S2\": {\n",
      "        \"isTerminatingState\": true,\n",
      "        \"A\": \"S1\",\n",
      "        \"B\": \"S0\",\n",
      "        \"E\": \"S2\"\n",
      "    }\n",
      "}\n"
     ]
    }
   ],
   "source": [
    "#convert DFA to JSON\n",
    "import json\n",
    "\n",
    "# Create a dictionary that represents the DFA\n",
    "dfa_dict = {\n",
    "    \"startingState\": DFA.startState,\n",
    "}\n",
    "\n",
    "# Add states to the dictionary\n",
    "for state in DFA.States:\n",
    "    dfa_dict[state] = {\n",
    "        \"isTerminatingState\": state in DFA.acceptStates,\n",
    "    }\n",
    "    # Add transitions for each state\n",
    "    if state in DFA.transitions:\n",
    "        for symbol, nextState in DFA.transitions[state].items():\n",
    "            dfa_dict[state][symbol] = nextState\n",
    "\n",
    "# Convert the dictionary to a JSON string\n",
    "dfa_json = json.dumps(dfa_dict, indent=4)\n",
    "\n",
    "print(dfa_json)\n",
    "   "
   ]
  }
 ],
 "metadata": {
  "kernelspec": {
   "display_name": "Python 3",
   "language": "python",
   "name": "python3"
  },
  "language_info": {
   "codemirror_mode": {
    "name": "ipython",
    "version": 3
   },
   "file_extension": ".py",
   "mimetype": "text/x-python",
   "name": "python",
   "nbconvert_exporter": "python",
   "pygments_lexer": "ipython3",
   "version": "3.12.0"
  }
 },
 "nbformat": 4,
 "nbformat_minor": 2
}
